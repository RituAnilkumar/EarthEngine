{
  "nbformat": 4,
  "nbformat_minor": 0,
  "metadata": {
    "colab": {
      "provenance": [],
      "authorship_tag": "ABX9TyN5a2zBA3IVgNicmBKlQO1x",
      "include_colab_link": true
    },
    "kernelspec": {
      "name": "python3",
      "display_name": "Python 3"
    },
    "language_info": {
      "name": "python"
    }
  },
  "cells": [
    {
      "cell_type": "markdown",
      "metadata": {
        "id": "view-in-github",
        "colab_type": "text"
      },
      "source": [
        "<a href=\"https://colab.research.google.com/github/RituAnilkumar/EarthEngine/blob/master/Fundamentals_of_Python_Programming.ipynb\" target=\"_parent\"><img src=\"https://colab.research.google.com/assets/colab-badge.svg\" alt=\"Open In Colab\"/></a>"
      ]
    },
    {
      "cell_type": "markdown",
      "source": [
        "# Fundamentals of Python Programming"
      ],
      "metadata": {
        "id": "hxKhkXPRxK7X"
      }
    },
    {
      "cell_type": "markdown",
      "source": [
        "**Author:** Ritu Anilkumar | Scientist/Engineer SD\n",
        "\n",
        "ritu.anilkumar@nesac.gov.in | 9366041399"
      ],
      "metadata": {
        "id": "7V4QzRlqbxhy"
      }
    },
    {
      "cell_type": "markdown",
      "source": [
        "## How do we install and work with Python?\n",
        "\n",
        "\n",
        "1.   Download from https://www.python.org/, write script as .py file and execute \n",
        "  *   Terminal/Powershell\n",
        "  *   Use an IDE like IDLE, PyCharm, VS Code\n",
        "  *   Use a notebook like Jupyter Notebook.\n",
        "\n",
        "2.   Anaconda: install on different environments\n",
        "\n",
        "3. Online platforms without installing Python: Eg Azure, Colab etc"
      ],
      "metadata": {
        "id": "PWYoQWY8u01x"
      }
    },
    {
      "cell_type": "markdown",
      "source": [
        "# Comments, commands and datatypes \n",
        "In this section, we will cover:\n",
        "\n",
        "1.   Commands are run by the computer. Comments are ignored and meant for programmer for understanding.\n",
        "2.   Some preliminary commands: print, type\n",
        "3.   Basic data types: int, float, string\n"
      ],
      "metadata": {
        "id": "SAh3znyDxuNu"
      }
    },
    {
      "cell_type": "code",
      "execution_count": null,
      "metadata": {
        "id": "cRRVKzfCxKST",
        "colab": {
          "base_uri": "https://localhost:8080/"
        },
        "outputId": "4ca0c452-d563-4e7a-8d3e-d2e562d46046"
      },
      "outputs": [
        {
          "output_type": "stream",
          "name": "stdout",
          "text": [
            "Hello World!\n"
          ]
        }
      ],
      "source": [
        "# The first command of any programming language: Hello world!\n",
        "print('Hello World!')"
      ]
    },
    {
      "cell_type": "code",
      "source": [
        "# Printing a number\n",
        "print(1)"
      ],
      "metadata": {
        "id": "qtFWaRBLx_Fv",
        "colab": {
          "base_uri": "https://localhost:8080/"
        },
        "outputId": "5ca00b94-d02a-472e-a6c5-9e1d1df94965"
      },
      "execution_count": null,
      "outputs": [
        {
          "output_type": "stream",
          "name": "stdout",
          "text": [
            "1\n"
          ]
        }
      ]
    },
    {
      "cell_type": "code",
      "source": [
        "# Common datatypes: int, string, float\n",
        "print(type(1.0))\n",
        "print(type(1))\n",
        "print(type(\"1\"))"
      ],
      "metadata": {
        "colab": {
          "base_uri": "https://localhost:8080/"
        },
        "id": "lTuRzllTyIVH",
        "outputId": "3aba62a7-346f-4265-adb1-a3d3fa83c7b2"
      },
      "execution_count": null,
      "outputs": [
        {
          "output_type": "stream",
          "name": "stdout",
          "text": [
            "<class 'float'>\n",
            "<class 'int'>\n",
            "<class 'str'>\n"
          ]
        }
      ]
    },
    {
      "cell_type": "markdown",
      "source": [
        "# Variables\n",
        "We use variables to store information. In the above example, we have printed \"Hello World!\" We can also save this in a variable and print it directly through the print command. This is useful when we need to use the same line multiple times."
      ],
      "metadata": {
        "id": "Qa6RMufU0VOv"
      }
    },
    {
      "cell_type": "code",
      "source": [
        "x='Hello World!'\n",
        "print(x)\n",
        "print(x)\n",
        "print(x)"
      ],
      "metadata": {
        "colab": {
          "base_uri": "https://localhost:8080/"
        },
        "id": "ATNLMstvyQ9z",
        "outputId": "715d4dd4-8ea8-4ace-e0e0-2becc3a7e2b7"
      },
      "execution_count": null,
      "outputs": [
        {
          "output_type": "stream",
          "name": "stdout",
          "text": [
            "Hello World!\n",
            "Hello World!\n",
            "Hello World!\n"
          ]
        }
      ]
    },
    {
      "cell_type": "code",
      "source": [
        "print('x')"
      ],
      "metadata": {
        "colab": {
          "base_uri": "https://localhost:8080/"
        },
        "id": "T1BVQtuTOXnR",
        "outputId": "e7ddbcba-6bf7-4773-c459-684fbe91ace5"
      },
      "execution_count": null,
      "outputs": [
        {
          "output_type": "stream",
          "name": "stdout",
          "text": [
            "x\n"
          ]
        }
      ]
    },
    {
      "cell_type": "markdown",
      "source": [
        "# Arithmetic Operations"
      ],
      "metadata": {
        "id": "d9n9HjIszO9j"
      }
    },
    {
      "cell_type": "markdown",
      "source": [
        "Next, let's take a look at some simple operations. We will create variables a and b and pass values to it. We will print the sum of a and b."
      ],
      "metadata": {
        "id": "xeL7m0uu0gZp"
      }
    },
    {
      "cell_type": "code",
      "source": [
        "a=3\n",
        "b=9\n",
        "c=a+b\n",
        "d=a-b\n",
        "print('The sum of a and b is ',c)\n",
        "print('The difference of a and b is ',d)"
      ],
      "metadata": {
        "id": "PLzsP8cz0kD7",
        "colab": {
          "base_uri": "https://localhost:8080/"
        },
        "outputId": "bf0f7d89-0b89-4b5e-9c33-87095a6af06c"
      },
      "execution_count": null,
      "outputs": [
        {
          "output_type": "stream",
          "name": "stdout",
          "text": [
            "The sum of a and b is  12\n",
            "The difference of a and b is  -6\n"
          ]
        }
      ]
    },
    {
      "cell_type": "code",
      "source": [
        "print(2**4)\n",
        "2**2"
      ],
      "metadata": {
        "colab": {
          "base_uri": "https://localhost:8080/"
        },
        "id": "wH-usEqSIB6H",
        "outputId": "aaf06dee-a531-4380-c99b-dc508e69ad27"
      },
      "execution_count": null,
      "outputs": [
        {
          "output_type": "stream",
          "name": "stdout",
          "text": [
            "16\n"
          ]
        },
        {
          "output_type": "execute_result",
          "data": {
            "text/plain": [
              "4"
            ]
          },
          "metadata": {},
          "execution_count": 54
        }
      ]
    },
    {
      "cell_type": "markdown",
      "source": [
        "# Relational Operations"
      ],
      "metadata": {
        "id": "9-oL5sVBzQuz"
      }
    },
    {
      "cell_type": "markdown",
      "source": [
        "Relational oeprations give an output of true or false"
      ],
      "metadata": {
        "id": "OM5wK0n41JNl"
      }
    },
    {
      "cell_type": "code",
      "source": [
        "a=1\n",
        "b=3\n",
        "print('Is a greater than or equal to b:',a>=b)\n",
        "print('Is a lesser than b:',(a<b))\n"
      ],
      "metadata": {
        "colab": {
          "base_uri": "https://localhost:8080/"
        },
        "id": "UDy5cpXe1B0J",
        "outputId": "17bf12ce-ec61-4337-e104-3ca300db3f51"
      },
      "execution_count": null,
      "outputs": [
        {
          "output_type": "stream",
          "name": "stdout",
          "text": [
            "Is a greater than or equal to b: False\n",
            "Is a lesser than b: True\n"
          ]
        }
      ]
    },
    {
      "cell_type": "code",
      "source": [
        "print(type(True))"
      ],
      "metadata": {
        "colab": {
          "base_uri": "https://localhost:8080/"
        },
        "id": "p2gMkeVV1NGV",
        "outputId": "4b381188-6623-41f6-cc5f-d6aaf520e5a8"
      },
      "execution_count": null,
      "outputs": [
        {
          "output_type": "stream",
          "name": "stdout",
          "text": [
            "<class 'bool'>\n"
          ]
        }
      ]
    },
    {
      "cell_type": "markdown",
      "source": [
        "# Logical Operations"
      ],
      "metadata": {
        "id": "xEWxtkVhzS6z"
      }
    },
    {
      "cell_type": "markdown",
      "source": [
        "Applies AND, OR, NOT etc. Also Boolean output"
      ],
      "metadata": {
        "id": "OYotq-yY1kdL"
      }
    },
    {
      "cell_type": "code",
      "source": [
        "a=1\n",
        "b=3\n",
        "c=1\n",
        "print('Is a greater than b OR a not equal to c:',(a>b)|(a!=c))\n",
        "print('Is a lesser than b AND a equal to c:',(a<b)&(a==c))"
      ],
      "metadata": {
        "colab": {
          "base_uri": "https://localhost:8080/"
        },
        "id": "BspdXtlI1jkD",
        "outputId": "2ef7e847-44d1-4e85-93d7-7b8df7cda180"
      },
      "execution_count": null,
      "outputs": [
        {
          "output_type": "stream",
          "name": "stdout",
          "text": [
            "Is a greater than b OR a not equal to c: False\n",
            "Is a lesser than b AND a equal to c: True\n"
          ]
        }
      ]
    },
    {
      "cell_type": "code",
      "source": [
        "a=1\n",
        "b=3\n",
        "c=1"
      ],
      "metadata": {
        "id": "fpYzcLJXP_oX"
      },
      "execution_count": null,
      "outputs": []
    },
    {
      "cell_type": "code",
      "source": [
        "print(a>b)"
      ],
      "metadata": {
        "colab": {
          "base_uri": "https://localhost:8080/"
        },
        "id": "ZmK_OV54QB2r",
        "outputId": "678ba6e8-a83a-44f6-bf5e-820dbf62038c"
      },
      "execution_count": null,
      "outputs": [
        {
          "output_type": "stream",
          "name": "stdout",
          "text": [
            "False\n"
          ]
        }
      ]
    },
    {
      "cell_type": "code",
      "source": [
        "print(a!=c)"
      ],
      "metadata": {
        "colab": {
          "base_uri": "https://localhost:8080/"
        },
        "id": "NHi4f2pbQB0Z",
        "outputId": "195ffc17-7b60-484b-e040-504ac34aa3d3"
      },
      "execution_count": null,
      "outputs": [
        {
          "output_type": "stream",
          "name": "stdout",
          "text": [
            "False\n"
          ]
        }
      ]
    },
    {
      "cell_type": "code",
      "source": [
        "print((a>b)|(a==c))"
      ],
      "metadata": {
        "colab": {
          "base_uri": "https://localhost:8080/"
        },
        "id": "t1lnJP53QByB",
        "outputId": "c0aaffa2-331e-4bbb-ec0d-89e3abe92b49"
      },
      "execution_count": null,
      "outputs": [
        {
          "output_type": "stream",
          "name": "stdout",
          "text": [
            "True\n"
          ]
        }
      ]
    },
    {
      "cell_type": "markdown",
      "source": [
        "# Some more data types"
      ],
      "metadata": {
        "id": "x0tfLRsWyy1X"
      }
    },
    {
      "cell_type": "markdown",
      "source": [
        "## Lists"
      ],
      "metadata": {
        "id": "eNdhIkYN36EE"
      }
    },
    {
      "cell_type": "markdown",
      "source": [
        "A list is a sequence of objects. It can have any number of objects inside. In Python lists are written with square brackets"
      ],
      "metadata": {
        "id": "MG2wM9zS3nJ8"
      }
    },
    {
      "cell_type": "code",
      "source": [
        "cities = ['San Francisco', 'Los Angeles', 'New York', 'Atlanta']\n",
        "print(cities)"
      ],
      "metadata": {
        "colab": {
          "base_uri": "https://localhost:8080/"
        },
        "id": "Spd78m3Y2GDQ",
        "outputId": "05b27299-cce0-4f39-c219-9d3fa3adaa43"
      },
      "execution_count": null,
      "outputs": [
        {
          "output_type": "stream",
          "name": "stdout",
          "text": [
            "['San Francisco', 'Los Angeles', 'New York', 'Atlanta']\n"
          ]
        }
      ]
    },
    {
      "cell_type": "markdown",
      "source": [
        "Elements can be accessed by the index that starts with 0"
      ],
      "metadata": {
        "id": "CFTq1jhw3txF"
      }
    },
    {
      "cell_type": "code",
      "source": [
        "print(cities[2])"
      ],
      "metadata": {
        "colab": {
          "base_uri": "https://localhost:8080/"
        },
        "id": "c5mJZr2lzor5",
        "outputId": "76a29768-eb83-4636-8135-d24be3885f71"
      },
      "execution_count": null,
      "outputs": [
        {
          "output_type": "stream",
          "name": "stdout",
          "text": [
            "New York\n"
          ]
        }
      ]
    },
    {
      "cell_type": "markdown",
      "source": [
        "We can also use negative indices to start from the last"
      ],
      "metadata": {
        "id": "Pf2tc57Qzg9P"
      }
    },
    {
      "cell_type": "code",
      "source": [
        "print(cities[-2])"
      ],
      "metadata": {
        "colab": {
          "base_uri": "https://localhost:8080/"
        },
        "id": "zxmluUny3w6E",
        "outputId": "ec29c964-4275-4cbb-9d6d-b98c5c14280d"
      },
      "execution_count": null,
      "outputs": [
        {
          "output_type": "stream",
          "name": "stdout",
          "text": [
            "New York\n"
          ]
        }
      ]
    },
    {
      "cell_type": "markdown",
      "source": [
        "You can call len() function with any Python object and it will calculates the size of the object."
      ],
      "metadata": {
        "id": "29HICWQk3-I8"
      }
    },
    {
      "cell_type": "code",
      "source": [
        "print(len(cities))"
      ],
      "metadata": {
        "id": "xuMpIKui3-wv",
        "colab": {
          "base_uri": "https://localhost:8080/"
        },
        "outputId": "68de9a0a-e1b8-4fad-bfca-b6d1a338692c"
      },
      "execution_count": null,
      "outputs": [
        {
          "output_type": "stream",
          "name": "stdout",
          "text": [
            "4\n"
          ]
        }
      ]
    },
    {
      "cell_type": "markdown",
      "source": [
        "You can add elements to the list using the Python function append()"
      ],
      "metadata": {
        "id": "9_4nU05N4Bx8"
      }
    },
    {
      "cell_type": "code",
      "source": [
        "print('Old list:',cities)\n",
        "cities.append('Boston')\n",
        "print('New list:',cities)"
      ],
      "metadata": {
        "colab": {
          "base_uri": "https://localhost:8080/"
        },
        "id": "w7XqH7kS4EP8",
        "outputId": "dfb0e4af-74b8-4a52-c3bd-1ac50eb2e7f2"
      },
      "execution_count": null,
      "outputs": [
        {
          "output_type": "stream",
          "name": "stdout",
          "text": [
            "Old list: ['San Francisco', 'Los Angeles', 'New York', 'Atlanta']\n",
            "New list: ['San Francisco', 'Los Angeles', 'New York', 'Atlanta', 'Boston']\n"
          ]
        }
      ]
    },
    {
      "cell_type": "markdown",
      "source": [
        "You can also include different datatypes in the same list"
      ],
      "metadata": {
        "id": "jP5aOLtW4gH8"
      }
    },
    {
      "cell_type": "code",
      "source": [
        "test=[1,2,'test']\n",
        "print(test[-1])"
      ],
      "metadata": {
        "id": "FMk7xXTM4WQc",
        "colab": {
          "base_uri": "https://localhost:8080/"
        },
        "outputId": "49c86624-d7a8-4c54-984b-8ae8d3293c47"
      },
      "execution_count": null,
      "outputs": [
        {
          "output_type": "stream",
          "name": "stdout",
          "text": [
            "test\n"
          ]
        }
      ]
    },
    {
      "cell_type": "markdown",
      "source": [
        "There is a helper function called range if you would like to create a list of numbers in a particular range. It includes the first element and skips the last element."
      ],
      "metadata": {
        "id": "gUVDGE7R4rC8"
      }
    },
    {
      "cell_type": "code",
      "source": [
        "a=range(2,100)\n",
        "print(a[0])\n",
        "print(a[1])\n",
        "# print(a[2])\n",
        "# print(a[3])"
      ],
      "metadata": {
        "colab": {
          "base_uri": "https://localhost:8080/"
        },
        "id": "4yWAUl_F4zEs",
        "outputId": "1a2f399f-3e61-43d8-a378-471327396005"
      },
      "execution_count": null,
      "outputs": [
        {
          "output_type": "stream",
          "name": "stdout",
          "text": [
            "2\n",
            "3\n"
          ]
        }
      ]
    },
    {
      "cell_type": "code",
      "source": [
        "len(a)"
      ],
      "metadata": {
        "colab": {
          "base_uri": "https://localhost:8080/"
        },
        "id": "v-00x2JjL-VT",
        "outputId": "6e79f2e9-9f98-47d7-a10b-676a9660818f"
      },
      "execution_count": null,
      "outputs": [
        {
          "output_type": "execute_result",
          "data": {
            "text/plain": [
              "98"
            ]
          },
          "metadata": {},
          "execution_count": 69
        }
      ]
    },
    {
      "cell_type": "markdown",
      "source": [
        "## Dictionaries"
      ],
      "metadata": {
        "id": "c4G94xI05fK8"
      }
    },
    {
      "cell_type": "markdown",
      "source": [
        "In Python dictionaries are written with curly brackets {}. Dictionaries have keys and values. With lists, we can access each element by its index. But a dictionary makes it easy to access the element by name. Keys and values are separated by a colon :."
      ],
      "metadata": {
        "id": "yr_LBtMy3DNW"
      }
    },
    {
      "cell_type": "code",
      "source": [
        "data = {'city': ['San Francisco','Boston'], 'population': [881549,23000]}\n",
        "print(data)"
      ],
      "metadata": {
        "colab": {
          "base_uri": "https://localhost:8080/"
        },
        "id": "p8GaT5qw3EbG",
        "outputId": "9938c936-056d-48bb-b18f-28568a6a685a"
      },
      "execution_count": null,
      "outputs": [
        {
          "output_type": "stream",
          "name": "stdout",
          "text": [
            "{'city': ['San Francisco', 'Boston'], 'population': [881549, 23000]}\n"
          ]
        }
      ]
    },
    {
      "cell_type": "code",
      "source": [
        "data['city']"
      ],
      "metadata": {
        "colab": {
          "base_uri": "https://localhost:8080/"
        },
        "id": "LE73jJhQ3Z1O",
        "outputId": "2c8e18cd-8cd2-4f6b-ab64-95a74e066149"
      },
      "execution_count": null,
      "outputs": [
        {
          "output_type": "execute_result",
          "data": {
            "text/plain": [
              "['San Francisco', 'Boston']"
            ]
          },
          "metadata": {},
          "execution_count": 22
        }
      ]
    },
    {
      "cell_type": "code",
      "source": [
        "data['city'][0]"
      ],
      "metadata": {
        "colab": {
          "base_uri": "https://localhost:8080/",
          "height": 35
        },
        "id": "4QTz7aaoTVtp",
        "outputId": "7363086d-7da1-4aa0-8690-34bb2939d9de"
      },
      "execution_count": null,
      "outputs": [
        {
          "output_type": "execute_result",
          "data": {
            "text/plain": [
              "'San Francisco'"
            ],
            "application/vnd.google.colaboratory.intrinsic+json": {
              "type": "string"
            }
          },
          "metadata": {},
          "execution_count": 23
        }
      ]
    },
    {
      "cell_type": "markdown",
      "source": [
        "# Functions"
      ],
      "metadata": {
        "id": "qMaW4cjOzeCQ"
      }
    },
    {
      "cell_type": "markdown",
      "source": [
        "Sometimes, we have a set of operations which need to be repeated over and over again. In such cases, it's a good idea to define functions. Functions generally consist of the function name, it's arguments, the operations performed and the values returned. Consider the following example of a function:"
      ],
      "metadata": {
        "id": "PZnfRr3H5yRU"
      }
    },
    {
      "cell_type": "code",
      "source": [
        "def add_subtract(a,b):\n",
        "  sum=a+b\n",
        "  diff=a-b\n",
        "  return sum,diff"
      ],
      "metadata": {
        "id": "Fmvec0Am5x80"
      },
      "execution_count": null,
      "outputs": []
    },
    {
      "cell_type": "markdown",
      "source": [
        "**NOTE: Please see the indentation in the function.** Here, add_subtract is the function name which is defined using the def keyword. We pass the arguments a and b to the function and two variables for sum and difference are calculated and returned. Now, we can call the function and get the outputs."
      ],
      "metadata": {
        "id": "DKzi6qRU56EN"
      }
    },
    {
      "cell_type": "code",
      "source": [
        "x=5\n",
        "y=2\n",
        "s1,d1=add_subtract(x,y)\n",
        "print('Sum1 is ',s1,' and difference1 is ',d1)"
      ],
      "metadata": {
        "colab": {
          "base_uri": "https://localhost:8080/"
        },
        "id": "xW2YaqrD55s0",
        "outputId": "39e95735-0d84-4f6b-8cc6-876f4fab9f7f"
      },
      "execution_count": null,
      "outputs": [
        {
          "output_type": "stream",
          "name": "stdout",
          "text": [
            "Sum1 is  7  and difference1 is  3\n"
          ]
        }
      ]
    },
    {
      "cell_type": "code",
      "source": [
        "s2,d2=add_subtract(6,1)\n",
        "print('Sum2 is ',s2,' and difference2 is ',d2)\n"
      ],
      "metadata": {
        "colab": {
          "base_uri": "https://localhost:8080/"
        },
        "id": "9qGjP0itUdGB",
        "outputId": "387dda52-612f-4ef4-fbe2-74f7646c53a2"
      },
      "execution_count": null,
      "outputs": [
        {
          "output_type": "stream",
          "name": "stdout",
          "text": [
            "Sum2 is  7  and difference2 is  5\n"
          ]
        }
      ]
    },
    {
      "cell_type": "code",
      "source": [
        "print('Sum3 and difference3 is ', add_subtract(2,9))"
      ],
      "metadata": {
        "colab": {
          "base_uri": "https://localhost:8080/"
        },
        "id": "ljfX0Zb1UsTp",
        "outputId": "6e28c0ae-a10f-4bb5-e991-4994421f906d"
      },
      "execution_count": null,
      "outputs": [
        {
          "output_type": "stream",
          "name": "stdout",
          "text": [
            "Sum3 and difference3 is  (11, -7)\n"
          ]
        }
      ]
    },
    {
      "cell_type": "markdown",
      "source": [
        "# Logic Flow with if statements"
      ],
      "metadata": {
        "id": "9c23aEoOzlcO"
      }
    },
    {
      "cell_type": "markdown",
      "source": [
        "We also have some statements that will help us make decisions about what statements to execute next. These are the control statements. A commonly used such statement is the if else statement illustrated below:"
      ],
      "metadata": {
        "id": "sO1G8ETD6qyN"
      }
    },
    {
      "cell_type": "code",
      "source": [
        "def check_rel(a,b):\n",
        "  if a>b:\n",
        "    print(a,' is greater than', b)\n",
        "  elif a<b:\n",
        "    print(a,' is less than', b)\n",
        "  else:\n",
        "    print('The numbers ',a,' and ',b,' are equal')"
      ],
      "metadata": {
        "id": "neflqmsP6iX1"
      },
      "execution_count": null,
      "outputs": []
    },
    {
      "cell_type": "code",
      "source": [
        "check_rel(1,2)"
      ],
      "metadata": {
        "colab": {
          "base_uri": "https://localhost:8080/"
        },
        "id": "c9VdLZN963rl",
        "outputId": "6a69ffd1-6ba5-4c88-ba63-9f0b8122c0e8"
      },
      "execution_count": null,
      "outputs": [
        {
          "output_type": "stream",
          "name": "stdout",
          "text": [
            "1  is less than 2\n"
          ]
        }
      ]
    },
    {
      "cell_type": "code",
      "source": [
        "print(\"Énter a number\")\n",
        "x=int(input(\"enter value\"))"
      ],
      "metadata": {
        "colab": {
          "base_uri": "https://localhost:8080/"
        },
        "id": "gCmzMcjjeMiZ",
        "outputId": "78052f59-a3c8-4755-f689-17dfc023b37d"
      },
      "execution_count": null,
      "outputs": [
        {
          "name": "stdout",
          "output_type": "stream",
          "text": [
            "Énter a number\n",
            "enter value2\n"
          ]
        }
      ]
    },
    {
      "cell_type": "code",
      "source": [
        "check_rel(3,x)"
      ],
      "metadata": {
        "colab": {
          "base_uri": "https://localhost:8080/"
        },
        "id": "g8hIvwIDeHSx",
        "outputId": "2208cf97-cf23-470d-e77b-75b75852e383"
      },
      "execution_count": null,
      "outputs": [
        {
          "output_type": "stream",
          "name": "stdout",
          "text": [
            "3  is greater than 2\n"
          ]
        }
      ]
    },
    {
      "cell_type": "code",
      "source": [
        "check_rel(2,2)"
      ],
      "metadata": {
        "colab": {
          "base_uri": "https://localhost:8080/"
        },
        "id": "6qabiTwbeIeR",
        "outputId": "e0e22992-0aeb-4853-a752-bc61b7a8e0dc"
      },
      "execution_count": null,
      "outputs": [
        {
          "output_type": "stream",
          "name": "stdout",
          "text": [
            "The numbers  2  and  2  are equal\n"
          ]
        }
      ]
    },
    {
      "cell_type": "markdown",
      "source": [
        "# Logic Flow with for statements"
      ],
      "metadata": {
        "id": "c-WBHecTzoy9"
      }
    },
    {
      "cell_type": "markdown",
      "source": [
        "In case a set of statements are to be repeated as long as a condition is valid, we use loops. Consider an example of the for loop below. We can see that i is initially set to 0 and incremented by 1 after each iteration of the loop until it reaches 5. When it reaches 5, it no longer satisfies the condition and hence the execution stops"
      ],
      "metadata": {
        "id": "Lw6pRcdJ7Voy"
      }
    },
    {
      "cell_type": "code",
      "source": [
        "i=5\n",
        "while i>0:\n",
        "  print(i)\n",
        "  i=i-1\n",
        "print('completed')"
      ],
      "metadata": {
        "colab": {
          "base_uri": "https://localhost:8080/"
        },
        "id": "TcrgK4Mcf9Xv",
        "outputId": "1bd90a7e-2c2c-4965-c662-060dac119cc6"
      },
      "execution_count": null,
      "outputs": [
        {
          "output_type": "stream",
          "name": "stdout",
          "text": [
            "5\n",
            "4\n",
            "3\n",
            "2\n",
            "1\n",
            "completed\n"
          ]
        }
      ]
    },
    {
      "cell_type": "code",
      "source": [
        "for i in [0,1,2]:\n",
        "  print(i)\n",
        "  print('Done')\n",
        "print('Stop')"
      ],
      "metadata": {
        "colab": {
          "base_uri": "https://localhost:8080/"
        },
        "id": "Xz-6u8H37U9U",
        "outputId": "1e526fbe-6f24-48c3-a1e7-c9e7156b19c9"
      },
      "execution_count": null,
      "outputs": [
        {
          "output_type": "stream",
          "name": "stdout",
          "text": [
            "0\n",
            "Done\n",
            "1\n",
            "Done\n",
            "2\n",
            "Done\n",
            "Stop\n"
          ]
        }
      ]
    },
    {
      "cell_type": "markdown",
      "source": [
        "# Introducing Libraries with Numpy"
      ],
      "metadata": {
        "id": "ls6t7Kfqy2F6"
      }
    },
    {
      "cell_type": "markdown",
      "source": [
        "In order to do matrix operations, there is a commonly used library called numpy. This can be imported and we can explore some of the basics of numpy below."
      ],
      "metadata": {
        "id": "ENIHhznS7z3O"
      }
    },
    {
      "cell_type": "code",
      "source": [
        "import numpy\n",
        "a=[1,2,3]\n",
        "print(type(a))\n",
        "b=numpy.array([1,2,3])\n",
        "print(type(b))"
      ],
      "metadata": {
        "colab": {
          "base_uri": "https://localhost:8080/"
        },
        "id": "EyWVMp6J70cP",
        "outputId": "b25db9ff-94e2-4967-bcfa-a287d6d3fa13"
      },
      "execution_count": null,
      "outputs": [
        {
          "output_type": "stream",
          "name": "stdout",
          "text": [
            "<class 'list'>\n",
            "<class 'numpy.ndarray'>\n"
          ]
        }
      ]
    },
    {
      "cell_type": "markdown",
      "source": [
        "We can import libraries with an alias to reduce typing effort"
      ],
      "metadata": {
        "id": "Q_os5V3F7-Q0"
      }
    },
    {
      "cell_type": "code",
      "source": [
        "import numpy as np\n",
        "a=[1,2,3]\n",
        "print(type(a))\n",
        "b=np.array([1,2,3])\n",
        "print(type(b))"
      ],
      "metadata": {
        "colab": {
          "base_uri": "https://localhost:8080/"
        },
        "id": "DwWDYsOw77Ld",
        "outputId": "0e42e86d-298e-49e5-9a3e-bd92519fd6c1"
      },
      "execution_count": null,
      "outputs": [
        {
          "output_type": "stream",
          "name": "stdout",
          "text": [
            "<class 'list'>\n",
            "<class 'numpy.ndarray'>\n"
          ]
        }
      ]
    },
    {
      "cell_type": "markdown",
      "source": [
        "We can use several functions of numpy in Python. Some of them include the shape function, ones function, zeros function, arange function, reshape function etc."
      ],
      "metadata": {
        "id": "5thWpLYp8ITD"
      }
    },
    {
      "cell_type": "code",
      "source": [
        "def test(a,b):\n",
        "  print(a)\n",
        "  print(b)"
      ],
      "metadata": {
        "id": "i43_6XeSZUO4"
      },
      "execution_count": null,
      "outputs": []
    },
    {
      "cell_type": "code",
      "source": [
        "test(1,2)"
      ],
      "metadata": {
        "colab": {
          "base_uri": "https://localhost:8080/"
        },
        "id": "o0dzsJPYZYuY",
        "outputId": "df179166-0d5c-483a-b6d9-05de0622b7fe"
      },
      "execution_count": null,
      "outputs": [
        {
          "output_type": "stream",
          "name": "stdout",
          "text": [
            "1\n",
            "2\n"
          ]
        }
      ]
    },
    {
      "cell_type": "code",
      "source": [
        "a=np.ones((3,4))\n",
        "print(a)"
      ],
      "metadata": {
        "colab": {
          "base_uri": "https://localhost:8080/"
        },
        "id": "ZHMEBN6m8FH8",
        "outputId": "5ff59904-fa6a-43ee-c86e-5dcd7c33202c"
      },
      "execution_count": null,
      "outputs": [
        {
          "output_type": "stream",
          "name": "stdout",
          "text": [
            "[[1. 1. 1. 1.]\n",
            " [1. 1. 1. 1.]\n",
            " [1. 1. 1. 1.]]\n"
          ]
        }
      ]
    },
    {
      "cell_type": "code",
      "source": [
        "b=np.zeros((3,4))\n",
        "print(b)"
      ],
      "metadata": {
        "colab": {
          "base_uri": "https://localhost:8080/"
        },
        "id": "M36KUWbD8KyE",
        "outputId": "6d9161f2-7695-47df-e02b-f86535a3c633"
      },
      "execution_count": null,
      "outputs": [
        {
          "output_type": "stream",
          "name": "stdout",
          "text": [
            "[[0. 0. 0. 0.]\n",
            " [0. 0. 0. 0.]\n",
            " [0. 0. 0. 0.]]\n"
          ]
        }
      ]
    },
    {
      "cell_type": "code",
      "source": [
        "a.shape"
      ],
      "metadata": {
        "colab": {
          "base_uri": "https://localhost:8080/"
        },
        "id": "aoN2XwGT8Nbi",
        "outputId": "7843531d-eae3-4285-f15e-cfaaa75ceb4d"
      },
      "execution_count": null,
      "outputs": [
        {
          "output_type": "execute_result",
          "data": {
            "text/plain": [
              "(3, 4)"
            ]
          },
          "metadata": {},
          "execution_count": 38
        }
      ]
    },
    {
      "cell_type": "code",
      "source": [
        "b.shape"
      ],
      "metadata": {
        "colab": {
          "base_uri": "https://localhost:8080/"
        },
        "id": "WdbmA-Rv8QbS",
        "outputId": "33001cb3-8a0f-4920-e632-6fd5f0c03673"
      },
      "execution_count": null,
      "outputs": [
        {
          "output_type": "execute_result",
          "data": {
            "text/plain": [
              "(3, 4)"
            ]
          },
          "metadata": {},
          "execution_count": 39
        }
      ]
    },
    {
      "cell_type": "markdown",
      "source": [
        "Similar to the range function, numpy has the arange function"
      ],
      "metadata": {
        "id": "WdvjYPxk8V_4"
      }
    },
    {
      "cell_type": "code",
      "source": [
        "a=np.arange(0,31,2,int)\n",
        "print(a)"
      ],
      "metadata": {
        "colab": {
          "base_uri": "https://localhost:8080/"
        },
        "id": "uxNBm-Xh8RCD",
        "outputId": "5ae2b05d-d198-4210-b4be-0a57917433f2"
      },
      "execution_count": null,
      "outputs": [
        {
          "output_type": "stream",
          "name": "stdout",
          "text": [
            "[ 0  2  4  6  8 10 12 14 16 18 20 22 24 26 28 30]\n"
          ]
        }
      ]
    },
    {
      "cell_type": "markdown",
      "source": [
        "Let's see the shape of a"
      ],
      "metadata": {
        "id": "badZzN168ccB"
      }
    },
    {
      "cell_type": "code",
      "source": [
        "a.shape"
      ],
      "metadata": {
        "colab": {
          "base_uri": "https://localhost:8080/"
        },
        "id": "R4YRR2tr8cDh",
        "outputId": "9d775fae-76c9-409e-b031-99f6b0cc7102"
      },
      "execution_count": null,
      "outputs": [
        {
          "output_type": "execute_result",
          "data": {
            "text/plain": [
              "(16,)"
            ]
          },
          "metadata": {},
          "execution_count": 41
        }
      ]
    },
    {
      "cell_type": "markdown",
      "source": [
        "Reshape function changes the shape to the required shape"
      ],
      "metadata": {
        "id": "laUdUwlf8gB4"
      }
    },
    {
      "cell_type": "code",
      "source": [
        "b=a.reshape(4,4)\n",
        "print(b)"
      ],
      "metadata": {
        "colab": {
          "base_uri": "https://localhost:8080/"
        },
        "id": "d-xOdJec8aw6",
        "outputId": "a742d766-57cd-4619-807e-e675becb9c46"
      },
      "execution_count": null,
      "outputs": [
        {
          "output_type": "stream",
          "name": "stdout",
          "text": [
            "[[ 0  2  4  6]\n",
            " [ 8 10 12 14]\n",
            " [16 18 20 22]\n",
            " [24 26 28 30]]\n"
          ]
        }
      ]
    },
    {
      "cell_type": "code",
      "source": [
        "print(b.shape)"
      ],
      "metadata": {
        "colab": {
          "base_uri": "https://localhost:8080/"
        },
        "id": "M9rVaeX6Z8yx",
        "outputId": "081d3ed7-e92e-45b2-f554-ba569f8e7699"
      },
      "execution_count": null,
      "outputs": [
        {
          "output_type": "stream",
          "name": "stdout",
          "text": [
            "(4, 4)\n"
          ]
        }
      ]
    },
    {
      "cell_type": "markdown",
      "source": [
        "If you don't know the size exactly, use -1"
      ],
      "metadata": {
        "id": "KnMFFDpU8nsn"
      }
    },
    {
      "cell_type": "code",
      "source": [
        "c=a.reshape(4,-1)\n",
        "print(c.shape)"
      ],
      "metadata": {
        "colab": {
          "base_uri": "https://localhost:8080/"
        },
        "id": "tmrVM1q18jCa",
        "outputId": "14403dae-c88f-43b3-9423-41e78c833498"
      },
      "execution_count": null,
      "outputs": [
        {
          "output_type": "stream",
          "name": "stdout",
          "text": [
            "(4, 4)\n"
          ]
        }
      ]
    },
    {
      "cell_type": "markdown",
      "source": [
        "You can refer to the different elements of the numpy array using it's indices. The first row, first column is 0,0 and so on. If want to select a range of values, you can use the colon operator too."
      ],
      "metadata": {
        "id": "EDxOhs-88ww-"
      }
    },
    {
      "cell_type": "code",
      "source": [
        "print(b)"
      ],
      "metadata": {
        "colab": {
          "base_uri": "https://localhost:8080/"
        },
        "id": "Y_MGqLnqaPyQ",
        "outputId": "30466398-2db8-4099-efea-062ec657a3cd"
      },
      "execution_count": null,
      "outputs": [
        {
          "output_type": "stream",
          "name": "stdout",
          "text": [
            "[[ 0  2  4  6]\n",
            " [ 8 10 12 14]\n",
            " [16 18 20 22]\n",
            " [24 26 28 30]]\n"
          ]
        }
      ]
    },
    {
      "cell_type": "code",
      "source": [
        "print(b[2:,2:])"
      ],
      "metadata": {
        "colab": {
          "base_uri": "https://localhost:8080/"
        },
        "id": "vhhrwW4Kac1n",
        "outputId": "9a176d1e-edfb-405a-94c9-c15da1241c52"
      },
      "execution_count": null,
      "outputs": [
        {
          "output_type": "stream",
          "name": "stdout",
          "text": [
            "[[20 22]\n",
            " [28 30]]\n"
          ]
        }
      ]
    },
    {
      "cell_type": "code",
      "source": [
        "print(b)\n",
        "print('Next')\n",
        "print(b[0,1])\n",
        "print('Next')\n",
        "print(b[3,3])\n",
        "print('Next')\n",
        "print(b[:,0])\n",
        "print('Next')\n",
        "print(b[:2,:])"
      ],
      "metadata": {
        "colab": {
          "base_uri": "https://localhost:8080/"
        },
        "id": "i7VSZeat8rcP",
        "outputId": "43839527-130b-496e-e683-caa7d69bbea1"
      },
      "execution_count": null,
      "outputs": [
        {
          "output_type": "stream",
          "name": "stdout",
          "text": [
            "[[ 0  2  4  6]\n",
            " [ 8 10 12 14]\n",
            " [16 18 20 22]\n",
            " [24 26 28 30]]\n",
            "Next\n",
            "2\n",
            "Next\n",
            "30\n",
            "Next\n",
            "[ 0  8 16 24]\n",
            "Next\n",
            "[[ 0  2  4  6]\n",
            " [ 8 10 12 14]]\n"
          ]
        }
      ]
    },
    {
      "cell_type": "markdown",
      "source": [
        "***"
      ],
      "metadata": {
        "id": "7U1GHDsR0uAl"
      }
    }
  ]
}
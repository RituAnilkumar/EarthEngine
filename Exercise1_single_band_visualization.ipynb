{
  "nbformat": 4,
  "nbformat_minor": 0,
  "metadata": {
    "colab": {
      "name": "Exercise1_single_band_visualization.ipynb",
      "provenance": [],
      "toc_visible": true,
      "authorship_tag": "ABX9TyPMpNWzUQvVmsnDCwWIm4Jq",
      "include_colab_link": true
    },
    "kernelspec": {
      "name": "python3",
      "display_name": "Python 3"
    }
  },
  "cells": [
    {
      "cell_type": "markdown",
      "metadata": {
        "id": "view-in-github",
        "colab_type": "text"
      },
      "source": [
        "<a href=\"https://colab.research.google.com/github/RituAnilkumar/EarthEngine/blob/master/Exercise1_single_band_visualization.ipynb\" target=\"_parent\"><img src=\"https://colab.research.google.com/assets/colab-badge.svg\" alt=\"Open In Colab\"/></a>"
      ]
    },
    {
      "cell_type": "markdown",
      "metadata": {
        "id": "LruomCuX4rjI",
        "colab_type": "text"
      },
      "source": [
        "<h1 align=\"center\"> Google Earth Engine Python API Introductory Tutorial 1 </h1>\n",
        "\n",
        "<p align=\"center\"> Author: Ritu Anilkumar</p> \n",
        "\n",
        "<p align=\"center\"> Updated on 30 April 2020 </p>\n",
        "\n",
        "# Introduction to Earth Engine\n",
        "<p align=\"justify\">Satellites consist of a large number of sensors providing large quantities of a variety of data for use in real-time models/analysis to provide accurate inputs for governance, planning and day to day life. In Earth Observation, we have large volumes of data ranging from 10-20 TB/day (I’m getting varying numbers in different papers, so I just put a range), a large variety of sensors acquiring data over different regions of the electromagnetic spectrum and lots of data in different formats. These datasets can be used for different models or analysis, let’s take the example of assessing crop damage for providing compensation to the farmers. We will need to provide real-time output to the govt. Agencies and these must be very accurate. Thus the need for velocity and veracity. Together these make up the commonly known 4Vs of Big data. Now that we categorize satellite data as big data, let’s see how we can work with it.</p>\n",
        "\n",
        "<p align=\"justify\">For using this data, we can use high end PCs or workstations, very good GPU systems, High Performance Computers etc. But for an everyday user from a regular Line Dept, this is difficult to obtain. Working on lower end systems takes several hours and days to process the data before any useful results can be obtained. This is more so difficult if you want to study global phenomenon or time variant phenomenon. My next few sentences are to make things more clear. It is largely derived from the Earth Engine tutorials by Noel Gorelick/Nick Clinton. The user has the question to answer but is unable to work with the large volumes of data. So it is often easier to take the questions to the data than vice versa. Consider again the example of the compensation for farmers across a state or country. We will need to assess the change of the crop before and after the disaster across large areas. Processing this on regular systems will require large volumes of data to be downloaded, processed (in our low-end systems) and made into maps. Instead, we can directly work on external high-end servers where the data is pre-loaded and download the maps directly. This will save our time in data download and processing.</p>\n",
        "\n",
        "<p align=\"justify\">One technique of doing the above is the use of Google Earth Engine. Earth engine can be used using either the JavaScript or Python API. This tutorial is an introduction to the Python API of Google Earth Engine. We can import the Earth Engine library like any other library using the import function. This makes most functions fairly similar to the JavaScript API. So let's dig in. </p>"
      ]
    },
    {
      "cell_type": "markdown",
      "metadata": {
        "id": "MXa21Y_ctxk4",
        "colab_type": "text"
      },
      "source": [
        "# Authenticate and initialize Earth Engine.\n",
        "\n",
        "Our first step is to authenticate Earth Engine and initialize using our username and password. In case you haven't registered for Earth Engine, please do so [here](https://earthengine.google.com/signup/). Once you have your login credentials, please click the link that appears and grant the Earth Engine Authenticator to proceed with the tutorial. The provided link should be pasted into the space demarcated for the same."
      ]
    },
    {
      "cell_type": "code",
      "metadata": {
        "id": "zdn9fx8l4q9R",
        "colab_type": "code",
        "outputId": "29d83834-7ee2-4c1b-f021-3d40db14029d",
        "colab": {
          "base_uri": "https://localhost:8080/",
          "height": 173
        }
      },
      "source": [
        "# Import the earth engine library and authenticate with your credentials\n",
        "import ee\n",
        "ee.Authenticate()\n",
        "ee.Initialize()"
      ],
      "execution_count": 1,
      "outputs": [
        {
          "output_type": "stream",
          "text": [
            "To authorize access needed by Earth Engine, open the following URL in a web browser and follow the instructions. If the web browser does not start automatically, please manually browse the URL below.\n",
            "\n",
            "    https://accounts.google.com/o/oauth2/auth?client_id=517222506229-vsmmajv00ul0bs7p89v5m89qs8eb9359.apps.googleusercontent.com&scope=https%3A%2F%2Fwww.googleapis.com%2Fauth%2Fearthengine+https%3A%2F%2Fwww.googleapis.com%2Fauth%2Fdevstorage.full_control&redirect_uri=urn%3Aietf%3Awg%3Aoauth%3A2.0%3Aoob&response_type=code&code_challenge=uEhfj4Qxcwjbn-sXltcuTQ332Cl712-9CDlLdTD22w4&code_challenge_method=S256\n",
            "\n",
            "The authorization workflow will generate a code, which you should paste in the box below. \n",
            "Enter verification code: 4/zAFQwoVvrS5I3CpnhgF0amMvIF3i6mpscDo3Vmwsk_YOjgi2vw1MSSQ\n",
            "\n",
            "Successfully saved authorization token.\n"
          ],
          "name": "stdout"
        }
      ]
    },
    {
      "cell_type": "markdown",
      "metadata": {
        "id": "UB2Ed-Nz6DRI",
        "colab_type": "text"
      },
      "source": [
        "# Accessing and Displaying the datasets\n",
        "\n",
        "The best part about using Google Earth Engine is that we don't have to go through the hassle of downloading the data. Petabytes of data is stored in their Data Catagolue from Landsat series of sensors to Sentinel series, MODIS, SRTM, ALOS, ERA5 Climate Reananlysis, land surface temperature, night lights and so on. For an extensive list of datasources ingested into Google Earth Engine see [here](https://developers.google.com/earth-engine/datasets/). In the next code snippet, we will see how we can access this data and perform some simple visualizations.\n",
        "\n",
        "<p align=\"justify\"> Here, we have used the version 6 MODIS vegetation indices product: MYD13A1 V6 product. This provides a Vegetation Index (VI) value at a per pixel basis. There are two primary vegetation layers. The first is the Normalized Difference Vegetation Index (NDVI) and the second vegetation layer is the Enhanced Vegetation Index (EVI) that minimizes canopy background variations and maintains sensitivity over dense vegetation conditions. The EVI also uses the blue band to remove residual atmosphere contamination caused by smoke and sub-pixel thin cloud clouds. The MODIS NDVI and EVI products are computed from atmospherically corrected surface reflectances that have been masked for water, clouds, heavy aerosols, and cloud shadows. </p>"
      ]
    },
    {
      "cell_type": "code",
      "metadata": {
        "id": "bXGnw0UUCeN0",
        "colab_type": "code",
        "outputId": "6f42ed66-c2d9-4c6a-e154-3ac0b510753b",
        "colab": {
          "base_uri": "https://localhost:8080/",
          "height": 136
        }
      },
      "source": [
        "# Get the image collection using the datasets available\n",
        "ImCol=ee.ImageCollection('MODIS/006/MYD13A1')\n",
        "print(ImCol)"
      ],
      "execution_count": 2,
      "outputs": [
        {
          "output_type": "stream",
          "text": [
            "ee.ImageCollection({\n",
            "  \"type\": \"Invocation\",\n",
            "  \"arguments\": {\n",
            "    \"id\": \"MODIS/006/MYD13A1\"\n",
            "  },\n",
            "  \"functionName\": \"ImageCollection.load\"\n",
            "})\n"
          ],
          "name": "stdout"
        }
      ]
    },
    {
      "cell_type": "markdown",
      "metadata": {
        "id": "eBlpo7TRMclk",
        "colab_type": "text"
      },
      "source": [
        "<p align=\"justify\">We didn't get much meaningful information when we printed the ImCol. This is due to the way Python treats the Earth Engine objects. To extract meaningful information from the Earth Engine objects, we use the getInfo(). Here, we get details of the image collection.</p>"
      ]
    },
    {
      "cell_type": "code",
      "metadata": {
        "id": "kh7t8wJiHhpC",
        "colab_type": "code",
        "colab": {}
      },
      "source": [
        "#Uncomment the following to see the result.\n",
        "# print(ImCol.getInfo())"
      ],
      "execution_count": 0,
      "outputs": []
    },
    {
      "cell_type": "markdown",
      "metadata": {
        "id": "QDFe4or-IBc7",
        "colab_type": "text"
      },
      "source": [
        "<p align=\"justify\">If you want to check the properties of the images, we can \n",
        "use the Earth Engine reducers such as first(), mean(), median() etc.</p>"
      ]
    },
    {
      "cell_type": "code",
      "metadata": {
        "id": "ovjNw_6_N8Uz",
        "colab_type": "code",
        "outputId": "ffcb4f7f-9f27-4bfe-b157-bb2331af3f88",
        "colab": {
          "base_uri": "https://localhost:8080/",
          "height": 54
        }
      },
      "source": [
        "print(ImCol.first().getInfo())"
      ],
      "execution_count": 4,
      "outputs": [
        {
          "output_type": "stream",
          "text": [
            "{'type': 'Image', 'bands': [{'id': 'NDVI', 'data_type': {'type': 'PixelType', 'precision': 'int', 'min': -32768, 'max': 32767}, 'dimensions': [86400, 43200], 'crs': 'SR-ORG:6974', 'crs_transform': [463.312716528, 0, -20015109.354, 0, -463.312716527, 10007554.677]}, {'id': 'EVI', 'data_type': {'type': 'PixelType', 'precision': 'int', 'min': -32768, 'max': 32767}, 'dimensions': [86400, 43200], 'crs': 'SR-ORG:6974', 'crs_transform': [463.312716528, 0, -20015109.354, 0, -463.312716527, 10007554.677]}, {'id': 'DetailedQA', 'data_type': {'type': 'PixelType', 'precision': 'int', 'min': 0, 'max': 65535}, 'dimensions': [86400, 43200], 'crs': 'SR-ORG:6974', 'crs_transform': [463.312716528, 0, -20015109.354, 0, -463.312716527, 10007554.677]}, {'id': 'sur_refl_b01', 'data_type': {'type': 'PixelType', 'precision': 'int', 'min': -32768, 'max': 32767}, 'dimensions': [86400, 43200], 'crs': 'SR-ORG:6974', 'crs_transform': [463.312716528, 0, -20015109.354, 0, -463.312716527, 10007554.677]}, {'id': 'sur_refl_b02', 'data_type': {'type': 'PixelType', 'precision': 'int', 'min': -32768, 'max': 32767}, 'dimensions': [86400, 43200], 'crs': 'SR-ORG:6974', 'crs_transform': [463.312716528, 0, -20015109.354, 0, -463.312716527, 10007554.677]}, {'id': 'sur_refl_b03', 'data_type': {'type': 'PixelType', 'precision': 'int', 'min': -32768, 'max': 32767}, 'dimensions': [86400, 43200], 'crs': 'SR-ORG:6974', 'crs_transform': [463.312716528, 0, -20015109.354, 0, -463.312716527, 10007554.677]}, {'id': 'sur_refl_b07', 'data_type': {'type': 'PixelType', 'precision': 'int', 'min': -32768, 'max': 32767}, 'dimensions': [86400, 43200], 'crs': 'SR-ORG:6974', 'crs_transform': [463.312716528, 0, -20015109.354, 0, -463.312716527, 10007554.677]}, {'id': 'ViewZenith', 'data_type': {'type': 'PixelType', 'precision': 'int', 'min': -32768, 'max': 32767}, 'dimensions': [86400, 43200], 'crs': 'SR-ORG:6974', 'crs_transform': [463.312716528, 0, -20015109.354, 0, -463.312716527, 10007554.677]}, {'id': 'SolarZenith', 'data_type': {'type': 'PixelType', 'precision': 'int', 'min': -32768, 'max': 32767}, 'dimensions': [86400, 43200], 'crs': 'SR-ORG:6974', 'crs_transform': [463.312716528, 0, -20015109.354, 0, -463.312716527, 10007554.677]}, {'id': 'RelativeAzimuth', 'data_type': {'type': 'PixelType', 'precision': 'int', 'min': -32768, 'max': 32767}, 'dimensions': [86400, 43200], 'crs': 'SR-ORG:6974', 'crs_transform': [463.312716528, 0, -20015109.354, 0, -463.312716527, 10007554.677]}, {'id': 'DayOfYear', 'data_type': {'type': 'PixelType', 'precision': 'int', 'min': -32768, 'max': 32767}, 'dimensions': [86400, 43200], 'crs': 'SR-ORG:6974', 'crs_transform': [463.312716528, 0, -20015109.354, 0, -463.312716527, 10007554.677]}, {'id': 'SummaryQA', 'data_type': {'type': 'PixelType', 'precision': 'int', 'min': -128, 'max': 127}, 'dimensions': [86400, 43200], 'crs': 'SR-ORG:6974', 'crs_transform': [463.312716528, 0, -20015109.354, 0, -463.312716527, 10007554.677]}], 'version': 1506731453697233, 'id': 'MODIS/006/MYD13A1/2002_07_04', 'properties': {'system:time_start': 1025740800000, 'system:footprint': {'type': 'LinearRing', 'coordinates': [[-180, -90], [180, -90], [180, 90], [-180, 90], [-180, -90]]}, 'system:time_end': 1027123200000, 'system:asset_size': 9880773549, 'system:index': '2002_07_04'}}\n"
          ],
          "name": "stdout"
        }
      ]
    },
    {
      "cell_type": "markdown",
      "metadata": {
        "id": "uWaGkeHFSddV",
        "colab_type": "text"
      },
      "source": [
        "<p align=\"justify\">Here, first is a reducer that reduces the Image Collection to an image. There are several other reducers such as mean, median, mosaic available. Try them out yourself.</p>\n",
        "\n",
        "<p align=\"justify\">In this example, we are trying to generate an image composed of the greenest pixel in the image collection. The greenest refers to pixels that depict the most vigor in vegetation and can be calculated by using the highest value of the vegetation index of our choice. For this, we use the qualityMosaic reducer. This reducer allows us to generate mosaics by checking each and every pixel value and creating an image of the largest values. In the example below, we use the NDVI band to generate the quality mosaic. This means that we will create one image from the image collection with each of the pixel values indicating the greenest pixel from the collection. This is called the greenest pixel image</p>"
      ]
    },
    {
      "cell_type": "code",
      "metadata": {
        "id": "Hg7ZXtrLUCrf",
        "colab_type": "code",
        "colab": {}
      },
      "source": [
        "# Generating the greenest pixel image from the image collection using the quality mosaic reducer\n",
        "im=ImCol.qualityMosaic('NDVI')"
      ],
      "execution_count": 0,
      "outputs": []
    },
    {
      "cell_type": "markdown",
      "metadata": {
        "id": "zHqZnXoeUajG",
        "colab_type": "text"
      },
      "source": [
        "<p align=\"justify\">Now, let's take a look at the properties of this image. We see that the image still contains several bands including NDVI, EVI, surface reflectance bands and quality bands. But how we can extract the NDVI image from this?</p>"
      ]
    },
    {
      "cell_type": "code",
      "metadata": {
        "id": "gTtv3_8GUqh1",
        "colab_type": "code",
        "outputId": "f87c5d4f-4b3e-45ac-9cdb-8ab2c8d4789b",
        "colab": {
          "base_uri": "https://localhost:8080/",
          "height": 71
        }
      },
      "source": [
        "# Extracting the NDVI band from the image\n",
        "print(im.getInfo())\n",
        "NDVI_im=im.select('NDVI')\n",
        "print(NDVI_im.getInfo())"
      ],
      "execution_count": 6,
      "outputs": [
        {
          "output_type": "stream",
          "text": [
            "{'type': 'Image', 'bands': [{'id': 'NDVI', 'data_type': {'type': 'PixelType', 'precision': 'int', 'min': -32768, 'max': 32767}, 'crs': 'EPSG:4326', 'crs_transform': [1, 0, 0, 0, 1, 0]}, {'id': 'EVI', 'data_type': {'type': 'PixelType', 'precision': 'int', 'min': -32768, 'max': 32767}, 'crs': 'EPSG:4326', 'crs_transform': [1, 0, 0, 0, 1, 0]}, {'id': 'DetailedQA', 'data_type': {'type': 'PixelType', 'precision': 'int', 'min': 0, 'max': 65535}, 'crs': 'EPSG:4326', 'crs_transform': [1, 0, 0, 0, 1, 0]}, {'id': 'sur_refl_b01', 'data_type': {'type': 'PixelType', 'precision': 'int', 'min': -32768, 'max': 32767}, 'crs': 'EPSG:4326', 'crs_transform': [1, 0, 0, 0, 1, 0]}, {'id': 'sur_refl_b02', 'data_type': {'type': 'PixelType', 'precision': 'int', 'min': -32768, 'max': 32767}, 'crs': 'EPSG:4326', 'crs_transform': [1, 0, 0, 0, 1, 0]}, {'id': 'sur_refl_b03', 'data_type': {'type': 'PixelType', 'precision': 'int', 'min': -32768, 'max': 32767}, 'crs': 'EPSG:4326', 'crs_transform': [1, 0, 0, 0, 1, 0]}, {'id': 'sur_refl_b07', 'data_type': {'type': 'PixelType', 'precision': 'int', 'min': -32768, 'max': 32767}, 'crs': 'EPSG:4326', 'crs_transform': [1, 0, 0, 0, 1, 0]}, {'id': 'ViewZenith', 'data_type': {'type': 'PixelType', 'precision': 'int', 'min': -32768, 'max': 32767}, 'crs': 'EPSG:4326', 'crs_transform': [1, 0, 0, 0, 1, 0]}, {'id': 'SolarZenith', 'data_type': {'type': 'PixelType', 'precision': 'int', 'min': -32768, 'max': 32767}, 'crs': 'EPSG:4326', 'crs_transform': [1, 0, 0, 0, 1, 0]}, {'id': 'RelativeAzimuth', 'data_type': {'type': 'PixelType', 'precision': 'int', 'min': -32768, 'max': 32767}, 'crs': 'EPSG:4326', 'crs_transform': [1, 0, 0, 0, 1, 0]}, {'id': 'DayOfYear', 'data_type': {'type': 'PixelType', 'precision': 'int', 'min': -32768, 'max': 32767}, 'crs': 'EPSG:4326', 'crs_transform': [1, 0, 0, 0, 1, 0]}, {'id': 'SummaryQA', 'data_type': {'type': 'PixelType', 'precision': 'int', 'min': -128, 'max': 127}, 'crs': 'EPSG:4326', 'crs_transform': [1, 0, 0, 0, 1, 0]}]}\n",
            "{'type': 'Image', 'bands': [{'id': 'NDVI', 'data_type': {'type': 'PixelType', 'precision': 'int', 'min': -32768, 'max': 32767}, 'crs': 'EPSG:4326', 'crs_transform': [1, 0, 0, 0, 1, 0]}]}\n"
          ],
          "name": "stdout"
        }
      ]
    },
    {
      "cell_type": "markdown",
      "metadata": {
        "id": "l3TzzzGcU1mt",
        "colab_type": "text"
      },
      "source": [
        "## Displaying as a Thumbnail\n",
        "\n",
        "<p align=\"justify\">Now let's try to visualize the NDVI band.There are two ways to display the images in the Python API for Earth Engine. For colab projects, we can display as a thumbnail image or an interactive map. This cell depicts dislaying using thumbnails which uses the Image library from IPython.display. The visualization parameters need to be given just like we did in the GDAL tutorial. We have set the minimum and maximum values of 0 and 10000 respectively. I've set the image size to 512 and a custom palette was designed. Recall how we used viridis or magma or plasma or spectrum palette in Python's matplotlib.pyplot? Here, we define those using color codes.</p>"
      ]
    },
    {
      "cell_type": "code",
      "metadata": {
        "id": "pKWhqhJ1VZ1H",
        "colab_type": "code",
        "outputId": "4635d1e8-f16f-41bc-988b-abf459cdab65",
        "colab": {
          "base_uri": "https://localhost:8080/",
          "height": 277
        }
      },
      "source": [
        "# Importing the Image lbrary to display the results\n",
        "from IPython.display import Image\n",
        "Image(url=NDVI_im.getThumbUrl({'min': 0, 'max': 10000, 'dimensions': 512, 'palette': ['006633', 'E5FFCC', '662A00', 'D8D8D8', 'F5F5F5']}))"
      ],
      "execution_count": 7,
      "outputs": [
        {
          "output_type": "execute_result",
          "data": {
            "text/html": [
              "<img src=\"https://earthengine.googleapis.com/v1alpha/projects/earthengine-legacy/thumbnails/6f2265172132e5649634a0008e8a656b-f92ad33e17288a0ce2c100be6c1ffed3:getPixels\"/>"
            ],
            "text/plain": [
              "<IPython.core.display.Image object>"
            ]
          },
          "metadata": {
            "tags": []
          },
          "execution_count": 7
        }
      ]
    },
    {
      "cell_type": "markdown",
      "metadata": {
        "id": "kl6IDJSDYga4",
        "colab_type": "text"
      },
      "source": [
        "<p align=\"justify\">Color codes used here are called hex codes. We can get the hex code of different numbers by simply searching for it. the first two digits refer to the red channel, the next two for the green channel and final two digits the blue channel. These are written as a hexanumeric combination. 00 implies 0 and ff implies the highest value. Therefore 000000 is black, ffffff is white, ff0000 is red, 00ff00 is blue, 0000ff is green.</p>\n",
        "<p align=\"justify\"> Let's consider another palette for a more detailed view. </p>"
      ]
    },
    {
      "cell_type": "code",
      "metadata": {
        "id": "wtFwPVTMZr0g",
        "colab_type": "code",
        "outputId": "68dc65df-b0c1-4479-937b-7520abb00091",
        "colab": {
          "base_uri": "https://localhost:8080/",
          "height": 471
        }
      },
      "source": [
        "# Defining the palette in hexcodes and visualizing the image. Note, the dimensions have been changed from the previous as ademonstration.\n",
        "paletteFull=['FFFFFF', 'CE7E45', 'DF923D', 'F1B555', 'FCD163', '99B718', '74A901','66A000', '529400', '3E8601', '207401', '056201', '004C00', '023B01','012E01', '011D01', '011301']\n",
        "Image(url=NDVI_im.getThumbUrl({'min': 0, 'max': 10000, 'dimensions': 900, 'palette': paletteFull}))"
      ],
      "execution_count": 8,
      "outputs": [
        {
          "output_type": "execute_result",
          "data": {
            "text/html": [
              "<img src=\"https://earthengine.googleapis.com/v1alpha/projects/earthengine-legacy/thumbnails/0c583fa6c747c9746a4ad394298f964f-ae6f564d8e94ac9d3bdd11fe56682b6a:getPixels\"/>"
            ],
            "text/plain": [
              "<IPython.core.display.Image object>"
            ]
          },
          "metadata": {
            "tags": []
          },
          "execution_count": 8
        }
      ]
    },
    {
      "cell_type": "markdown",
      "metadata": {
        "id": "MPEpYPmAVzb1",
        "colab_type": "text"
      },
      "source": [
        "## Displaying as an Interactive Map using Folium\n",
        "\n",
        " <p align=\"justify\">In the above visualization, we are unable to interactively zoom in or zoom out and visualize regions of our interest. To do so, we need to use a platform called leaflet. Leaflet can be used with Python using a library called folium. Below, we configure folium to display the results on a leaflet base map. </p>"
      ]
    },
    {
      "cell_type": "code",
      "metadata": {
        "id": "ETMrESqsajyg",
        "colab_type": "code",
        "outputId": "22aceff1-be74-407a-d8b6-88135bd4babe",
        "colab": {
          "base_uri": "https://localhost:8080/",
          "height": 875
        }
      },
      "source": [
        "# First step is to import the folium library\n",
        "import folium\n",
        "\n",
        "# Define a function for displaying Earth Engine image tiles to folium map. \n",
        "def add_ee_layer(self, ee_image_object, vis_params, name):\n",
        "  map_id_dict = ee.Image(ee_image_object).getMapId(vis_params)\n",
        "  folium.raster_layers.TileLayer(\n",
        "    tiles = map_id_dict['tile_fetcher'].url_format,\n",
        "    attr = 'Map Data &copy; <a href=\"https://earthengine.google.com/\">Google Earth Engine</a>',\n",
        "    name = name,\n",
        "    overlay = True,\n",
        "    control = True\n",
        "  ).add_to(self)\n",
        "\n",
        "# Add EE drawing method to folium.\n",
        "folium.Map.add_ee_layer = add_ee_layer\n",
        "\n",
        "# Create a folium map object where we will load our images and maps onto.\n",
        "my_map = folium.Map(location=[24,121], zoom_start=3, height=500)\n",
        "\n",
        "# Add the image to the map object in the style defined by the add_ee_layer function. The visualization parameters in curly braces can be replaced by a variable for readability\n",
        "my_map.add_ee_layer(NDVI_im, {'min': 0,'max': 10000,'palette': ['006633', 'E5FFCC', '662A00', 'D8D8D8', 'F5F5F5']}, 'NDVI palette 1')\n",
        "my_map.add_ee_layer(NDVI_im, {'min': 0,'max': 10000,'palette': paletteFull}, 'NDVI palette 2')\n",
        "\n",
        "# Adding layer controls\n",
        "my_map.add_child(folium.LayerControl())\n",
        "\n",
        "# Click on the map to get a pop up of latitude and longitude\n",
        "folium.LatLngPopup().add_to(my_map)\n",
        "\n",
        "# To display the map, use the display function and pass the map object as its argument\n",
        "display(my_map)"
      ],
      "execution_count": 9,
      "outputs": [
        {
          "output_type": "display_data",
          "data": {
            "text/html": [
              "<div style=\"width:100%;\"><div style=\"position:relative;width:100%;height:0;padding-bottom:60%;\"><iframe src=\"about:blank\" style=\"position:absolute;width:100%;height:100%;left:0;top:0;border:none !important;\" data-html=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 onload=\"this.contentDocument.open();this.contentDocument.write(atob(this.getAttribute('data-html')));this.contentDocument.close();\" allowfullscreen webkitallowfullscreen mozallowfullscreen></iframe></div></div>"
            ],
            "text/plain": [
              "<folium.folium.Map at 0x7f6941280978>"
            ]
          },
          "metadata": {
            "tags": []
          }
        }
      ]
    },
    {
      "cell_type": "markdown",
      "metadata": {
        "id": "VbfoNVbOuyW5",
        "colab_type": "text"
      },
      "source": [
        "## Displaying as an Interactive Map using geemap\n",
        "Qiusheng Wu developed this amazing tool which simplifies the whole process of the previous subsection and also provides several additional resources and tools. For an extensive understanding of using geemap, take a look at [this page](https://github.com/giswqs/geemap) and [this video](https://www.youtube.com/watch?v=h0pz3S6Tvx0&list=PLAxJ4-o7ZoPccOFv1dCwvGI6TYnirRTg3&index=1)."
      ]
    },
    {
      "cell_type": "code",
      "metadata": {
        "id": "NK1xhXGkx9Rr",
        "colab_type": "code",
        "colab": {
          "base_uri": "https://localhost:8080/",
          "height": 875
        },
        "outputId": "819907ea-625b-4b9c-e016-ffc15b19f36b"
      },
      "source": [
        "import geemap.eefolium as emap\n",
        "Map = emap.Map(center=[24,121], zoom=3)\n",
        "Map.addLayer(NDVI_im, {'min': 0,'max': 10000,'palette': ['006633', 'E5FFCC', '662A00', 'D8D8D8', 'F5F5F5']}, 'NDVI palette 1')\n",
        "Map.addLayer(NDVI_im, {'min': 0,'max': 10000,'palette': paletteFull}, 'NDVI palette 2')\n",
        "Map.addLayerControl()\n",
        "Map"
      ],
      "execution_count": 10,
      "outputs": [
        {
          "output_type": "execute_result",
          "data": {
            "text/html": [
              "<div style=\"width:100%;\"><div style=\"position:relative;width:100%;height:0;padding-bottom:60%;\"><iframe src=\"about:blank\" style=\"position:absolute;width:100%;height:100%;left:0;top:0;border:none !important;\" data-html=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 onload=\"this.contentDocument.open();this.contentDocument.write(atob(this.getAttribute('data-html')));this.contentDocument.close();\" allowfullscreen webkitallowfullscreen mozallowfullscreen></iframe></div></div>"
            ],
            "text/plain": [
              "<geemap.eefolium.Map at 0x7f69413a59b0>"
            ]
          },
          "metadata": {
            "tags": []
          },
          "execution_count": 10
        }
      ]
    },
    {
      "cell_type": "markdown",
      "metadata": {
        "id": "YsJ7H83rVl7t",
        "colab_type": "text"
      },
      "source": [
        "## Displaying on QGIS\n",
        "\n",
        "<p align=\"justify\">Yet another way exists to visualize the images and generate maps. This is if we use the Earth Engine plugin with QGIS. For this, open QGIS 3.10 on your systems and go to Plugins>Manage and Install Plugins. Search for Google Earth Engine in the search bar and click install. During installation you will be required to authenticate access using your Google Earth Engine accounts. Please login to your gmail and authorize when requested to do so.</p>\n",
        "\n",
        "<p align=\"justify\">Next, ensure that the plugin is checked in the installed section and close. We can now open the Python console and write the Python code to acess the Earth Engine datasets and functionalities. For this, go to Pluings>Python Console. In the Console window, we can type the following commands </p>"
      ]
    },
    {
      "cell_type": "code",
      "metadata": {
        "id": "9e_FCwTHgks7",
        "colab_type": "code",
        "colab": {}
      },
      "source": [
        "# Importing the libraries of our interest\n",
        "import ee\n",
        "from ee_plugin import Map\n",
        "\n",
        "# Get the image collection using the datasets available and filter based on location and date range\n",
        "ImCol=ee.ImageCollection('MODIS/006/MYD13A1').filterDate(ee.Date('2018-01-01'),ee.Date('2018-12-31'))\n",
        "\n",
        "# Generating the greenest pixel image from the image collection using the quality mosaic reducer\n",
        "Im=ImCol.qualityMosaic('NDVI')\n",
        "\n",
        "# Extract the NDVI band from the Image by using the select function with bandname passed as the argument\n",
        "ImNDVI=Im.select('NDVI')\n",
        "\n",
        "# Displaying the results on Earth Engine\n",
        "Map.setCenter(91.17683945531849,26.17017283511727,5)\n",
        "Map.addLayer(ImNDVI,{'palette': ['FFFFFF', 'CE7E45', 'DF923D', 'F1B555', 'FCD163', '99B718', '74A901','66A000', '529400', '3E8601', '207401', '056201', '004C00', '023B01','012E01', '011D01', '011301'], 'min': 0, 'max': 10000},'NDVI')"
      ],
      "execution_count": 0,
      "outputs": []
    }
  ]
}